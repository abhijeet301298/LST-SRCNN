{
  "cells": [
    {
      "cell_type": "code",
      "execution_count": 45,
      "metadata": {
        "colab": {
          "base_uri": "https://localhost:8080/"
        },
        "id": "Y5-t7dHi708z",
        "outputId": "12a53f50-1d35-4ee0-dfdb-fb485db6c4eb"
      },
      "outputs": [
        {
          "output_type": "stream",
          "name": "stdout",
          "text": [
            "Requirement already satisfied: rasterio in /usr/local/lib/python3.11/dist-packages (1.4.3)\n",
            "Requirement already satisfied: affine in /usr/local/lib/python3.11/dist-packages (from rasterio) (2.4.0)\n",
            "Requirement already satisfied: attrs in /usr/local/lib/python3.11/dist-packages (from rasterio) (25.1.0)\n",
            "Requirement already satisfied: certifi in /usr/local/lib/python3.11/dist-packages (from rasterio) (2025.1.31)\n",
            "Requirement already satisfied: click>=4.0 in /usr/local/lib/python3.11/dist-packages (from rasterio) (8.1.8)\n",
            "Requirement already satisfied: cligj>=0.5 in /usr/local/lib/python3.11/dist-packages (from rasterio) (0.7.2)\n",
            "Requirement already satisfied: numpy>=1.24 in /usr/local/lib/python3.11/dist-packages (from rasterio) (1.26.4)\n",
            "Requirement already satisfied: click-plugins in /usr/local/lib/python3.11/dist-packages (from rasterio) (1.1.1)\n",
            "Requirement already satisfied: pyparsing in /usr/local/lib/python3.11/dist-packages (from rasterio) (3.2.1)\n"
          ]
        }
      ],
      "source": [
        "pip install rasterio"
      ]
    },
    {
      "cell_type": "code",
      "execution_count": 46,
      "metadata": {
        "colab": {
          "base_uri": "https://localhost:8080/"
        },
        "id": "enPPHGfSU9IJ",
        "outputId": "290311b1-7771-4e79-c094-681035f8a7f9"
      },
      "outputs": [
        {
          "output_type": "stream",
          "name": "stdout",
          "text": [
            "Drive already mounted at /content/drive; to attempt to forcibly remount, call drive.mount(\"/content/drive\", force_remount=True).\n"
          ]
        }
      ],
      "source": [
        "from google.colab import drive\n",
        "drive.mount('/content/drive')"
      ]
    },
    {
      "cell_type": "code",
      "execution_count": 47,
      "metadata": {
        "colab": {
          "base_uri": "https://localhost:8080/"
        },
        "id": "ZQYdUp5m78jt",
        "outputId": "6176a3c5-302f-424b-b48c-4f8db1f1d5f3"
      },
      "outputs": [
        {
          "output_type": "stream",
          "name": "stdout",
          "text": [
            "Original LST Image Shape: (73, 79)\n",
            "Normalized Range: 0.0 to 1.0\n"
          ]
        }
      ],
      "source": [
        "import rasterio\n",
        "import numpy as np\n",
        "import cv2\n",
        "import matplotlib.pyplot as plt\n",
        "import tensorflow as tf\n",
        "\n",
        "# Load the LST GeoTIFF file\n",
        "with rasterio.open(\"/content/LST_1_100m.tif\") as src:\n",
        "    lst_data = src.read(1)  # Read the first band (temperature values)\n",
        "\n",
        "# Normalize the data to [0, 1]\n",
        "lst_data_norm = (lst_data - np.min(lst_data)) / (np.max(lst_data) - np.min(lst_data))\n",
        "\n",
        "print(\"Original LST Image Shape:\", lst_data.shape)\n",
        "print(\"Normalized Range:\", np.min(lst_data_norm), \"to\", np.max(lst_data_norm))\n"
      ]
    },
    {
      "cell_type": "code",
      "execution_count": 48,
      "metadata": {
        "colab": {
          "base_uri": "https://localhost:8080/"
        },
        "id": "5V1f1hIx8LPM",
        "outputId": "2d5daddf-6f84-4759-90f1-4a21bceca92d"
      },
      "outputs": [
        {
          "output_type": "stream",
          "name": "stdout",
          "text": [
            "Extracted HR Patches: (2800, 24, 24, 1)\n"
          ]
        }
      ],
      "source": [
        "def extract_patches(image, patch_size, stride):\n",
        "\n",
        "    patches = []\n",
        "    h, w = image.shape\n",
        "    for i in range(0, h - patch_size + 1, stride):\n",
        "        for j in range(0, w - patch_size + 1, stride):\n",
        "            patch = image[i:i + patch_size, j:j + patch_size]\n",
        "            patches.append(patch)\n",
        "    return np.array(patches)\n",
        "\n",
        "# Define patch size and stride\n",
        "patch_size = 24\n",
        "stride = 1\n",
        "\n",
        "\n",
        "\n",
        "hr_patches = extract_patches(lst_data_norm, patch_size, stride)\n",
        "hr_patches = hr_patches.reshape(-1, patch_size, patch_size, 1)\n",
        "\n",
        "print(\"Extracted HR Patches:\", hr_patches.shape)\n"
      ]
    },
    {
      "cell_type": "code",
      "execution_count": 49,
      "metadata": {
        "colab": {
          "base_uri": "https://localhost:8080/"
        },
        "id": "6NUKb57j8om8",
        "outputId": "3604468d-05da-43a8-a054-fda92c0e01fe"
      },
      "outputs": [
        {
          "output_type": "stream",
          "name": "stdout",
          "text": [
            "LR Patches Shape: (2800, 24, 24, 1)\n",
            "HR Patches Shape: (2800, 24, 24, 1)\n"
          ]
        }
      ],
      "source": [
        "def create_lr_hr_pairs(hr_patches, scale=2):\n",
        "\n",
        "    lr_patches = []\n",
        "    for patch in hr_patches:\n",
        "        h, w = patch.shape[:2]\n",
        "\n",
        "        lr_patch = cv2.resize(patch, (w // scale, h // scale), interpolation=cv2.INTER_CUBIC)\n",
        "        lr_patch = cv2.resize(lr_patch, (w, h), interpolation=cv2.INTER_CUBIC)\n",
        "        lr_patches.append(lr_patch)\n",
        "    return np.array(lr_patches), hr_patches\n",
        "\n",
        "\n",
        "X_train_lr, X_train_hr = create_lr_hr_pairs(hr_patches, scale=2)\n",
        "\n",
        "X_train_lr = X_train_lr.reshape(-1, patch_size, patch_size, 1)\n",
        "X_train_hr = X_train_hr.reshape(-1, patch_size, patch_size, 1)\n",
        "\n",
        "print(\"LR Patches Shape:\", X_train_lr.shape)\n",
        "print(\"HR Patches Shape:\", X_train_hr.shape)\n",
        "\n",
        "\n",
        "\n"
      ]
    },
    {
      "cell_type": "code",
      "execution_count": 52,
      "metadata": {
        "colab": {
          "base_uri": "https://localhost:8080/",
          "height": 225
        },
        "id": "wn683Jgl8r9r",
        "outputId": "be1935f6-34e6-484d-da25-26f0ac429200"
      },
      "outputs": [
        {
          "output_type": "display_data",
          "data": {
            "text/plain": [
              "\u001b[1mModel: \"sequential_8\"\u001b[0m\n"
            ],
            "text/html": [
              "<pre style=\"white-space:pre;overflow-x:auto;line-height:normal;font-family:Menlo,'DejaVu Sans Mono',consolas,'Courier New',monospace\"><span style=\"font-weight: bold\">Model: \"sequential_8\"</span>\n",
              "</pre>\n"
            ]
          },
          "metadata": {}
        },
        {
          "output_type": "display_data",
          "data": {
            "text/plain": [
              "┏━━━━━━━━━━━━━━━━━━━━━━━━━━━━━━━━━━━━━━┳━━━━━━━━━━━━━━━━━━━━━━━━━━━━━┳━━━━━━━━━━━━━━━━━┓\n",
              "┃\u001b[1m \u001b[0m\u001b[1mLayer (type)                        \u001b[0m\u001b[1m \u001b[0m┃\u001b[1m \u001b[0m\u001b[1mOutput Shape               \u001b[0m\u001b[1m \u001b[0m┃\u001b[1m \u001b[0m\u001b[1m        Param #\u001b[0m\u001b[1m \u001b[0m┃\n",
              "┡━━━━━━━━━━━━━━━━━━━━━━━━━━━━━━━━━━━━━━╇━━━━━━━━━━━━━━━━━━━━━━━━━━━━━╇━━━━━━━━━━━━━━━━━┩\n",
              "│ conv2d_24 (\u001b[38;5;33mConv2D\u001b[0m)                   │ (\u001b[38;5;45mNone\u001b[0m, \u001b[38;5;34m24\u001b[0m, \u001b[38;5;34m24\u001b[0m, \u001b[38;5;34m512\u001b[0m)         │          \u001b[38;5;34m41,984\u001b[0m │\n",
              "├──────────────────────────────────────┼─────────────────────────────┼─────────────────┤\n",
              "│ conv2d_25 (\u001b[38;5;33mConv2D\u001b[0m)                   │ (\u001b[38;5;45mNone\u001b[0m, \u001b[38;5;34m24\u001b[0m, \u001b[38;5;34m24\u001b[0m, \u001b[38;5;34m256\u001b[0m)         │       \u001b[38;5;34m3,277,056\u001b[0m │\n",
              "├──────────────────────────────────────┼─────────────────────────────┼─────────────────┤\n",
              "│ conv2d_26 (\u001b[38;5;33mConv2D\u001b[0m)                   │ (\u001b[38;5;45mNone\u001b[0m, \u001b[38;5;34m24\u001b[0m, \u001b[38;5;34m24\u001b[0m, \u001b[38;5;34m1\u001b[0m)           │           \u001b[38;5;34m6,401\u001b[0m │\n",
              "└──────────────────────────────────────┴─────────────────────────────┴─────────────────┘\n"
            ],
            "text/html": [
              "<pre style=\"white-space:pre;overflow-x:auto;line-height:normal;font-family:Menlo,'DejaVu Sans Mono',consolas,'Courier New',monospace\">┏━━━━━━━━━━━━━━━━━━━━━━━━━━━━━━━━━━━━━━┳━━━━━━━━━━━━━━━━━━━━━━━━━━━━━┳━━━━━━━━━━━━━━━━━┓\n",
              "┃<span style=\"font-weight: bold\"> Layer (type)                         </span>┃<span style=\"font-weight: bold\"> Output Shape                </span>┃<span style=\"font-weight: bold\">         Param # </span>┃\n",
              "┡━━━━━━━━━━━━━━━━━━━━━━━━━━━━━━━━━━━━━━╇━━━━━━━━━━━━━━━━━━━━━━━━━━━━━╇━━━━━━━━━━━━━━━━━┩\n",
              "│ conv2d_24 (<span style=\"color: #0087ff; text-decoration-color: #0087ff\">Conv2D</span>)                   │ (<span style=\"color: #00d7ff; text-decoration-color: #00d7ff\">None</span>, <span style=\"color: #00af00; text-decoration-color: #00af00\">24</span>, <span style=\"color: #00af00; text-decoration-color: #00af00\">24</span>, <span style=\"color: #00af00; text-decoration-color: #00af00\">512</span>)         │          <span style=\"color: #00af00; text-decoration-color: #00af00\">41,984</span> │\n",
              "├──────────────────────────────────────┼─────────────────────────────┼─────────────────┤\n",
              "│ conv2d_25 (<span style=\"color: #0087ff; text-decoration-color: #0087ff\">Conv2D</span>)                   │ (<span style=\"color: #00d7ff; text-decoration-color: #00d7ff\">None</span>, <span style=\"color: #00af00; text-decoration-color: #00af00\">24</span>, <span style=\"color: #00af00; text-decoration-color: #00af00\">24</span>, <span style=\"color: #00af00; text-decoration-color: #00af00\">256</span>)         │       <span style=\"color: #00af00; text-decoration-color: #00af00\">3,277,056</span> │\n",
              "├──────────────────────────────────────┼─────────────────────────────┼─────────────────┤\n",
              "│ conv2d_26 (<span style=\"color: #0087ff; text-decoration-color: #0087ff\">Conv2D</span>)                   │ (<span style=\"color: #00d7ff; text-decoration-color: #00d7ff\">None</span>, <span style=\"color: #00af00; text-decoration-color: #00af00\">24</span>, <span style=\"color: #00af00; text-decoration-color: #00af00\">24</span>, <span style=\"color: #00af00; text-decoration-color: #00af00\">1</span>)           │           <span style=\"color: #00af00; text-decoration-color: #00af00\">6,401</span> │\n",
              "└──────────────────────────────────────┴─────────────────────────────┴─────────────────┘\n",
              "</pre>\n"
            ]
          },
          "metadata": {}
        },
        {
          "output_type": "display_data",
          "data": {
            "text/plain": [
              "\u001b[1m Total params: \u001b[0m\u001b[38;5;34m3,325,441\u001b[0m (12.69 MB)\n"
            ],
            "text/html": [
              "<pre style=\"white-space:pre;overflow-x:auto;line-height:normal;font-family:Menlo,'DejaVu Sans Mono',consolas,'Courier New',monospace\"><span style=\"font-weight: bold\"> Total params: </span><span style=\"color: #00af00; text-decoration-color: #00af00\">3,325,441</span> (12.69 MB)\n",
              "</pre>\n"
            ]
          },
          "metadata": {}
        },
        {
          "output_type": "display_data",
          "data": {
            "text/plain": [
              "\u001b[1m Trainable params: \u001b[0m\u001b[38;5;34m3,325,441\u001b[0m (12.69 MB)\n"
            ],
            "text/html": [
              "<pre style=\"white-space:pre;overflow-x:auto;line-height:normal;font-family:Menlo,'DejaVu Sans Mono',consolas,'Courier New',monospace\"><span style=\"font-weight: bold\"> Trainable params: </span><span style=\"color: #00af00; text-decoration-color: #00af00\">3,325,441</span> (12.69 MB)\n",
              "</pre>\n"
            ]
          },
          "metadata": {}
        },
        {
          "output_type": "display_data",
          "data": {
            "text/plain": [
              "\u001b[1m Non-trainable params: \u001b[0m\u001b[38;5;34m0\u001b[0m (0.00 B)\n"
            ],
            "text/html": [
              "<pre style=\"white-space:pre;overflow-x:auto;line-height:normal;font-family:Menlo,'DejaVu Sans Mono',consolas,'Courier New',monospace\"><span style=\"font-weight: bold\"> Non-trainable params: </span><span style=\"color: #00af00; text-decoration-color: #00af00\">0</span> (0.00 B)\n",
              "</pre>\n"
            ]
          },
          "metadata": {}
        }
      ],
      "source": [
        "import tensorflow as tf\n",
        "from tensorflow.keras.models import Sequential\n",
        "from tensorflow.keras.layers import Conv2D\n",
        "\n",
        "def build_srcnn(patch_size):\n",
        "\n",
        "    model = Sequential([\n",
        "        Conv2D(512, (9, 9), activation='relu', padding='same', input_shape=(patch_size, patch_size, 1)),\n",
        "        Conv2D(256, (5, 5), activation='relu', padding='same'),\n",
        "        Conv2D(1, (5, 5), activation='linear', padding='same')\n",
        "    ])\n",
        "\n",
        "\n",
        "    model.compile(optimizer = tf.keras.optimizers.AdamW(learning_rate=0.0001),\n",
        "                  loss='mean_squared_error',\n",
        "                  metrics=['mae'])\n",
        "    return model\n",
        "\n",
        "srcnn_model = build_srcnn(patch_size)\n",
        "srcnn_model.summary()\n"
      ]
    },
    {
      "cell_type": "code",
      "execution_count": 53,
      "metadata": {
        "colab": {
          "base_uri": "https://localhost:8080/"
        },
        "id": "YLPHFI8_8vBE",
        "outputId": "5b8f95be-2b70-49d3-d877-774357d282f1"
      },
      "outputs": [
        {
          "output_type": "stream",
          "name": "stdout",
          "text": [
            "Epoch 1/200\n",
            "\u001b[1m79/79\u001b[0m \u001b[32m━━━━━━━━━━━━━━━━━━━━\u001b[0m\u001b[37m\u001b[0m \u001b[1m5s\u001b[0m 40ms/step - loss: 0.0206 - mae: 0.1029 - val_loss: 0.0041 - val_mae: 0.0492\n",
            "Epoch 2/200\n",
            "\u001b[1m79/79\u001b[0m \u001b[32m━━━━━━━━━━━━━━━━━━━━\u001b[0m\u001b[37m\u001b[0m \u001b[1m2s\u001b[0m 27ms/step - loss: 0.0032 - mae: 0.0430 - val_loss: 0.0033 - val_mae: 0.0441\n",
            "Epoch 3/200\n",
            "\u001b[1m79/79\u001b[0m \u001b[32m━━━━━━━━━━━━━━━━━━━━\u001b[0m\u001b[37m\u001b[0m \u001b[1m2s\u001b[0m 27ms/step - loss: 0.0027 - mae: 0.0400 - val_loss: 0.0032 - val_mae: 0.0429\n",
            "Epoch 4/200\n",
            "\u001b[1m79/79\u001b[0m \u001b[32m━━━━━━━━━━━━━━━━━━━━\u001b[0m\u001b[37m\u001b[0m \u001b[1m2s\u001b[0m 26ms/step - loss: 0.0026 - mae: 0.0391 - val_loss: 0.0031 - val_mae: 0.0423\n",
            "Epoch 5/200\n",
            "\u001b[1m79/79\u001b[0m \u001b[32m━━━━━━━━━━━━━━━━━━━━\u001b[0m\u001b[37m\u001b[0m \u001b[1m3s\u001b[0m 27ms/step - loss: 0.0025 - mae: 0.0386 - val_loss: 0.0031 - val_mae: 0.0421\n",
            "Epoch 6/200\n",
            "\u001b[1m79/79\u001b[0m \u001b[32m━━━━━━━━━━━━━━━━━━━━\u001b[0m\u001b[37m\u001b[0m \u001b[1m2s\u001b[0m 26ms/step - loss: 0.0025 - mae: 0.0383 - val_loss: 0.0030 - val_mae: 0.0419\n",
            "Epoch 7/200\n",
            "\u001b[1m79/79\u001b[0m \u001b[32m━━━━━━━━━━━━━━━━━━━━\u001b[0m\u001b[37m\u001b[0m \u001b[1m3s\u001b[0m 27ms/step - loss: 0.0024 - mae: 0.0377 - val_loss: 0.0030 - val_mae: 0.0417\n",
            "Epoch 8/200\n",
            "\u001b[1m79/79\u001b[0m \u001b[32m━━━━━━━━━━━━━━━━━━━━\u001b[0m\u001b[37m\u001b[0m \u001b[1m3s\u001b[0m 28ms/step - loss: 0.0024 - mae: 0.0374 - val_loss: 0.0030 - val_mae: 0.0416\n",
            "Epoch 9/200\n",
            "\u001b[1m79/79\u001b[0m \u001b[32m━━━━━━━━━━━━━━━━━━━━\u001b[0m\u001b[37m\u001b[0m \u001b[1m2s\u001b[0m 27ms/step - loss: 0.0023 - mae: 0.0370 - val_loss: 0.0029 - val_mae: 0.0413\n",
            "Epoch 10/200\n",
            "\u001b[1m79/79\u001b[0m \u001b[32m━━━━━━━━━━━━━━━━━━━━\u001b[0m\u001b[37m\u001b[0m \u001b[1m3s\u001b[0m 27ms/step - loss: 0.0023 - mae: 0.0364 - val_loss: 0.0029 - val_mae: 0.0411\n",
            "Epoch 11/200\n",
            "\u001b[1m79/79\u001b[0m \u001b[32m━━━━━━━━━━━━━━━━━━━━\u001b[0m\u001b[37m\u001b[0m \u001b[1m2s\u001b[0m 27ms/step - loss: 0.0023 - mae: 0.0363 - val_loss: 0.0029 - val_mae: 0.0410\n",
            "Epoch 12/200\n",
            "\u001b[1m79/79\u001b[0m \u001b[32m━━━━━━━━━━━━━━━━━━━━\u001b[0m\u001b[37m\u001b[0m \u001b[1m3s\u001b[0m 27ms/step - loss: 0.0022 - mae: 0.0360 - val_loss: 0.0029 - val_mae: 0.0408\n",
            "Epoch 13/200\n",
            "\u001b[1m79/79\u001b[0m \u001b[32m━━━━━━━━━━━━━━━━━━━━\u001b[0m\u001b[37m\u001b[0m \u001b[1m3s\u001b[0m 28ms/step - loss: 0.0021 - mae: 0.0353 - val_loss: 0.0028 - val_mae: 0.0404\n",
            "Epoch 14/200\n",
            "\u001b[1m79/79\u001b[0m \u001b[32m━━━━━━━━━━━━━━━━━━━━\u001b[0m\u001b[37m\u001b[0m \u001b[1m3s\u001b[0m 28ms/step - loss: 0.0021 - mae: 0.0350 - val_loss: 0.0028 - val_mae: 0.0402\n",
            "Epoch 15/200\n",
            "\u001b[1m79/79\u001b[0m \u001b[32m━━━━━━━━━━━━━━━━━━━━\u001b[0m\u001b[37m\u001b[0m \u001b[1m3s\u001b[0m 28ms/step - loss: 0.0021 - mae: 0.0347 - val_loss: 0.0027 - val_mae: 0.0400\n",
            "Epoch 16/200\n",
            "\u001b[1m79/79\u001b[0m \u001b[32m━━━━━━━━━━━━━━━━━━━━\u001b[0m\u001b[37m\u001b[0m \u001b[1m2s\u001b[0m 28ms/step - loss: 0.0020 - mae: 0.0340 - val_loss: 0.0027 - val_mae: 0.0398\n",
            "Epoch 17/200\n",
            "\u001b[1m79/79\u001b[0m \u001b[32m━━━━━━━━━━━━━━━━━━━━\u001b[0m\u001b[37m\u001b[0m \u001b[1m3s\u001b[0m 28ms/step - loss: 0.0019 - mae: 0.0335 - val_loss: 0.0027 - val_mae: 0.0395\n",
            "Epoch 18/200\n",
            "\u001b[1m79/79\u001b[0m \u001b[32m━━━━━━━━━━━━━━━━━━━━\u001b[0m\u001b[37m\u001b[0m \u001b[1m2s\u001b[0m 28ms/step - loss: 0.0019 - mae: 0.0329 - val_loss: 0.0026 - val_mae: 0.0392\n",
            "Epoch 19/200\n",
            "\u001b[1m79/79\u001b[0m \u001b[32m━━━━━━━━━━━━━━━━━━━━\u001b[0m\u001b[37m\u001b[0m \u001b[1m2s\u001b[0m 28ms/step - loss: 0.0018 - mae: 0.0325 - val_loss: 0.0026 - val_mae: 0.0390\n",
            "Epoch 20/200\n",
            "\u001b[1m79/79\u001b[0m \u001b[32m━━━━━━━━━━━━━━━━━━━━\u001b[0m\u001b[37m\u001b[0m \u001b[1m2s\u001b[0m 28ms/step - loss: 0.0018 - mae: 0.0322 - val_loss: 0.0026 - val_mae: 0.0387\n",
            "Epoch 21/200\n",
            "\u001b[1m79/79\u001b[0m \u001b[32m━━━━━━━━━━━━━━━━━━━━\u001b[0m\u001b[37m\u001b[0m \u001b[1m3s\u001b[0m 28ms/step - loss: 0.0017 - mae: 0.0315 - val_loss: 0.0026 - val_mae: 0.0385\n",
            "Epoch 22/200\n",
            "\u001b[1m79/79\u001b[0m \u001b[32m━━━━━━━━━━━━━━━━━━━━\u001b[0m\u001b[37m\u001b[0m \u001b[1m3s\u001b[0m 28ms/step - loss: 0.0017 - mae: 0.0311 - val_loss: 0.0025 - val_mae: 0.0381\n",
            "Epoch 23/200\n",
            "\u001b[1m79/79\u001b[0m \u001b[32m━━━━━━━━━━━━━━━━━━━━\u001b[0m\u001b[37m\u001b[0m \u001b[1m2s\u001b[0m 28ms/step - loss: 0.0017 - mae: 0.0305 - val_loss: 0.0025 - val_mae: 0.0380\n",
            "Epoch 24/200\n",
            "\u001b[1m79/79\u001b[0m \u001b[32m━━━━━━━━━━━━━━━━━━━━\u001b[0m\u001b[37m\u001b[0m \u001b[1m2s\u001b[0m 29ms/step - loss: 0.0016 - mae: 0.0303 - val_loss: 0.0025 - val_mae: 0.0378\n",
            "Epoch 25/200\n",
            "\u001b[1m79/79\u001b[0m \u001b[32m━━━━━━━━━━━━━━━━━━━━\u001b[0m\u001b[37m\u001b[0m \u001b[1m2s\u001b[0m 28ms/step - loss: 0.0016 - mae: 0.0297 - val_loss: 0.0024 - val_mae: 0.0376\n",
            "Epoch 26/200\n",
            "\u001b[1m79/79\u001b[0m \u001b[32m━━━━━━━━━━━━━━━━━━━━\u001b[0m\u001b[37m\u001b[0m \u001b[1m2s\u001b[0m 28ms/step - loss: 0.0015 - mae: 0.0294 - val_loss: 0.0024 - val_mae: 0.0372\n",
            "Epoch 27/200\n",
            "\u001b[1m79/79\u001b[0m \u001b[32m━━━━━━━━━━━━━━━━━━━━\u001b[0m\u001b[37m\u001b[0m \u001b[1m3s\u001b[0m 28ms/step - loss: 0.0015 - mae: 0.0289 - val_loss: 0.0024 - val_mae: 0.0370\n",
            "Epoch 28/200\n",
            "\u001b[1m79/79\u001b[0m \u001b[32m━━━━━━━━━━━━━━━━━━━━\u001b[0m\u001b[37m\u001b[0m \u001b[1m2s\u001b[0m 28ms/step - loss: 0.0015 - mae: 0.0285 - val_loss: 0.0024 - val_mae: 0.0368\n",
            "Epoch 29/200\n",
            "\u001b[1m79/79\u001b[0m \u001b[32m━━━━━━━━━━━━━━━━━━━━\u001b[0m\u001b[37m\u001b[0m \u001b[1m2s\u001b[0m 28ms/step - loss: 0.0014 - mae: 0.0281 - val_loss: 0.0024 - val_mae: 0.0366\n",
            "Epoch 30/200\n",
            "\u001b[1m79/79\u001b[0m \u001b[32m━━━━━━━━━━━━━━━━━━━━\u001b[0m\u001b[37m\u001b[0m \u001b[1m3s\u001b[0m 29ms/step - loss: 0.0014 - mae: 0.0277 - val_loss: 0.0024 - val_mae: 0.0366\n",
            "Epoch 31/200\n",
            "\u001b[1m79/79\u001b[0m \u001b[32m━━━━━━━━━━━━━━━━━━━━\u001b[0m\u001b[37m\u001b[0m \u001b[1m2s\u001b[0m 28ms/step - loss: 0.0014 - mae: 0.0275 - val_loss: 0.0023 - val_mae: 0.0363\n",
            "Epoch 32/200\n",
            "\u001b[1m79/79\u001b[0m \u001b[32m━━━━━━━━━━━━━━━━━━━━\u001b[0m\u001b[37m\u001b[0m \u001b[1m3s\u001b[0m 27ms/step - loss: 0.0013 - mae: 0.0269 - val_loss: 0.0023 - val_mae: 0.0359\n",
            "Epoch 33/200\n",
            "\u001b[1m79/79\u001b[0m \u001b[32m━━━━━━━━━━━━━━━━━━━━\u001b[0m\u001b[37m\u001b[0m \u001b[1m3s\u001b[0m 27ms/step - loss: 0.0013 - mae: 0.0266 - val_loss: 0.0023 - val_mae: 0.0358\n",
            "Epoch 34/200\n",
            "\u001b[1m79/79\u001b[0m \u001b[32m━━━━━━━━━━━━━━━━━━━━\u001b[0m\u001b[37m\u001b[0m \u001b[1m2s\u001b[0m 27ms/step - loss: 0.0013 - mae: 0.0262 - val_loss: 0.0023 - val_mae: 0.0355\n",
            "Epoch 35/200\n",
            "\u001b[1m79/79\u001b[0m \u001b[32m━━━━━━━━━━━━━━━━━━━━\u001b[0m\u001b[37m\u001b[0m \u001b[1m3s\u001b[0m 29ms/step - loss: 0.0012 - mae: 0.0259 - val_loss: 0.0023 - val_mae: 0.0355\n",
            "Epoch 36/200\n",
            "\u001b[1m79/79\u001b[0m \u001b[32m━━━━━━━━━━━━━━━━━━━━\u001b[0m\u001b[37m\u001b[0m \u001b[1m2s\u001b[0m 28ms/step - loss: 0.0012 - mae: 0.0255 - val_loss: 0.0022 - val_mae: 0.0353\n",
            "Epoch 37/200\n",
            "\u001b[1m79/79\u001b[0m \u001b[32m━━━━━━━━━━━━━━━━━━━━\u001b[0m\u001b[37m\u001b[0m \u001b[1m3s\u001b[0m 28ms/step - loss: 0.0012 - mae: 0.0254 - val_loss: 0.0022 - val_mae: 0.0350\n",
            "Epoch 38/200\n",
            "\u001b[1m79/79\u001b[0m \u001b[32m━━━━━━━━━━━━━━━━━━━━\u001b[0m\u001b[37m\u001b[0m \u001b[1m2s\u001b[0m 27ms/step - loss: 0.0012 - mae: 0.0251 - val_loss: 0.0022 - val_mae: 0.0349\n",
            "Epoch 39/200\n",
            "\u001b[1m79/79\u001b[0m \u001b[32m━━━━━━━━━━━━━━━━━━━━\u001b[0m\u001b[37m\u001b[0m \u001b[1m3s\u001b[0m 27ms/step - loss: 0.0011 - mae: 0.0245 - val_loss: 0.0022 - val_mae: 0.0348\n",
            "Epoch 40/200\n",
            "\u001b[1m79/79\u001b[0m \u001b[32m━━━━━━━━━━━━━━━━━━━━\u001b[0m\u001b[37m\u001b[0m \u001b[1m3s\u001b[0m 28ms/step - loss: 0.0011 - mae: 0.0244 - val_loss: 0.0022 - val_mae: 0.0346\n",
            "Epoch 41/200\n",
            "\u001b[1m79/79\u001b[0m \u001b[32m━━━━━━━━━━━━━━━━━━━━\u001b[0m\u001b[37m\u001b[0m \u001b[1m2s\u001b[0m 28ms/step - loss: 0.0011 - mae: 0.0240 - val_loss: 0.0022 - val_mae: 0.0345\n",
            "Epoch 42/200\n",
            "\u001b[1m79/79\u001b[0m \u001b[32m━━━━━━━━━━━━━━━━━━━━\u001b[0m\u001b[37m\u001b[0m \u001b[1m2s\u001b[0m 27ms/step - loss: 0.0011 - mae: 0.0236 - val_loss: 0.0022 - val_mae: 0.0344\n",
            "Epoch 43/200\n",
            "\u001b[1m79/79\u001b[0m \u001b[32m━━━━━━━━━━━━━━━━━━━━\u001b[0m\u001b[37m\u001b[0m \u001b[1m2s\u001b[0m 28ms/step - loss: 0.0011 - mae: 0.0237 - val_loss: 0.0021 - val_mae: 0.0341\n",
            "Epoch 44/200\n",
            "\u001b[1m79/79\u001b[0m \u001b[32m━━━━━━━━━━━━━━━━━━━━\u001b[0m\u001b[37m\u001b[0m \u001b[1m2s\u001b[0m 28ms/step - loss: 0.0010 - mae: 0.0232 - val_loss: 0.0022 - val_mae: 0.0347\n",
            "Epoch 45/200\n",
            "\u001b[1m79/79\u001b[0m \u001b[32m━━━━━━━━━━━━━━━━━━━━\u001b[0m\u001b[37m\u001b[0m \u001b[1m3s\u001b[0m 28ms/step - loss: 0.0011 - mae: 0.0236 - val_loss: 0.0021 - val_mae: 0.0340\n",
            "Epoch 46/200\n",
            "\u001b[1m79/79\u001b[0m \u001b[32m━━━━━━━━━━━━━━━━━━━━\u001b[0m\u001b[37m\u001b[0m \u001b[1m3s\u001b[0m 29ms/step - loss: 9.8845e-04 - mae: 0.0226 - val_loss: 0.0021 - val_mae: 0.0339\n",
            "Epoch 47/200\n",
            "\u001b[1m79/79\u001b[0m \u001b[32m━━━━━━━━━━━━━━━━━━━━\u001b[0m\u001b[37m\u001b[0m \u001b[1m2s\u001b[0m 29ms/step - loss: 9.8228e-04 - mae: 0.0225 - val_loss: 0.0021 - val_mae: 0.0338\n",
            "Epoch 48/200\n",
            "\u001b[1m79/79\u001b[0m \u001b[32m━━━━━━━━━━━━━━━━━━━━\u001b[0m\u001b[37m\u001b[0m \u001b[1m2s\u001b[0m 28ms/step - loss: 9.6993e-04 - mae: 0.0224 - val_loss: 0.0021 - val_mae: 0.0337\n",
            "Epoch 49/200\n",
            "\u001b[1m79/79\u001b[0m \u001b[32m━━━━━━━━━━━━━━━━━━━━\u001b[0m\u001b[37m\u001b[0m \u001b[1m2s\u001b[0m 28ms/step - loss: 9.3672e-04 - mae: 0.0219 - val_loss: 0.0021 - val_mae: 0.0336\n",
            "Epoch 50/200\n",
            "\u001b[1m79/79\u001b[0m \u001b[32m━━━━━━━━━━━━━━━━━━━━\u001b[0m\u001b[37m\u001b[0m \u001b[1m2s\u001b[0m 28ms/step - loss: 9.2386e-04 - mae: 0.0217 - val_loss: 0.0021 - val_mae: 0.0334\n",
            "Epoch 51/200\n",
            "\u001b[1m79/79\u001b[0m \u001b[32m━━━━━━━━━━━━━━━━━━━━\u001b[0m\u001b[37m\u001b[0m \u001b[1m2s\u001b[0m 28ms/step - loss: 9.1945e-04 - mae: 0.0217 - val_loss: 0.0021 - val_mae: 0.0334\n",
            "Epoch 52/200\n",
            "\u001b[1m79/79\u001b[0m \u001b[32m━━━━━━━━━━━━━━━━━━━━\u001b[0m\u001b[37m\u001b[0m \u001b[1m2s\u001b[0m 29ms/step - loss: 8.9003e-04 - mae: 0.0213 - val_loss: 0.0021 - val_mae: 0.0332\n",
            "Epoch 53/200\n",
            "\u001b[1m79/79\u001b[0m \u001b[32m━━━━━━━━━━━━━━━━━━━━\u001b[0m\u001b[37m\u001b[0m \u001b[1m2s\u001b[0m 28ms/step - loss: 8.8197e-04 - mae: 0.0212 - val_loss: 0.0021 - val_mae: 0.0331\n",
            "Epoch 54/200\n",
            "\u001b[1m79/79\u001b[0m \u001b[32m━━━━━━━━━━━━━━━━━━━━\u001b[0m\u001b[37m\u001b[0m \u001b[1m3s\u001b[0m 28ms/step - loss: 8.5918e-04 - mae: 0.0208 - val_loss: 0.0021 - val_mae: 0.0330\n",
            "Epoch 55/200\n",
            "\u001b[1m79/79\u001b[0m \u001b[32m━━━━━━━━━━━━━━━━━━━━\u001b[0m\u001b[37m\u001b[0m \u001b[1m2s\u001b[0m 28ms/step - loss: 8.5351e-04 - mae: 0.0208 - val_loss: 0.0021 - val_mae: 0.0330\n",
            "Epoch 56/200\n",
            "\u001b[1m79/79\u001b[0m \u001b[32m━━━━━━━━━━━━━━━━━━━━\u001b[0m\u001b[37m\u001b[0m \u001b[1m2s\u001b[0m 27ms/step - loss: 8.4055e-04 - mae: 0.0206 - val_loss: 0.0021 - val_mae: 0.0330\n",
            "Epoch 57/200\n",
            "\u001b[1m79/79\u001b[0m \u001b[32m━━━━━━━━━━━━━━━━━━━━\u001b[0m\u001b[37m\u001b[0m \u001b[1m2s\u001b[0m 28ms/step - loss: 8.2339e-04 - mae: 0.0203 - val_loss: 0.0020 - val_mae: 0.0329\n",
            "Epoch 58/200\n",
            "\u001b[1m79/79\u001b[0m \u001b[32m━━━━━━━━━━━━━━━━━━━━\u001b[0m\u001b[37m\u001b[0m \u001b[1m3s\u001b[0m 28ms/step - loss: 8.5168e-04 - mae: 0.0209 - val_loss: 0.0020 - val_mae: 0.0327\n",
            "Epoch 59/200\n",
            "\u001b[1m79/79\u001b[0m \u001b[32m━━━━━━━━━━━━━━━━━━━━\u001b[0m\u001b[37m\u001b[0m \u001b[1m2s\u001b[0m 27ms/step - loss: 7.9259e-04 - mae: 0.0199 - val_loss: 0.0020 - val_mae: 0.0328\n",
            "Epoch 60/200\n",
            "\u001b[1m79/79\u001b[0m \u001b[32m━━━━━━━━━━━━━━━━━━━━\u001b[0m\u001b[37m\u001b[0m \u001b[1m2s\u001b[0m 28ms/step - loss: 7.8394e-04 - mae: 0.0198 - val_loss: 0.0020 - val_mae: 0.0326\n",
            "Epoch 61/200\n",
            "\u001b[1m79/79\u001b[0m \u001b[32m━━━━━━━━━━━━━━━━━━━━\u001b[0m\u001b[37m\u001b[0m \u001b[1m3s\u001b[0m 28ms/step - loss: 7.7283e-04 - mae: 0.0196 - val_loss: 0.0020 - val_mae: 0.0325\n",
            "Epoch 62/200\n",
            "\u001b[1m79/79\u001b[0m \u001b[32m━━━━━━━━━━━━━━━━━━━━\u001b[0m\u001b[37m\u001b[0m \u001b[1m3s\u001b[0m 28ms/step - loss: 7.6017e-04 - mae: 0.0194 - val_loss: 0.0020 - val_mae: 0.0324\n",
            "Epoch 63/200\n",
            "\u001b[1m79/79\u001b[0m \u001b[32m━━━━━━━━━━━━━━━━━━━━\u001b[0m\u001b[37m\u001b[0m \u001b[1m2s\u001b[0m 28ms/step - loss: 7.5362e-04 - mae: 0.0194 - val_loss: 0.0020 - val_mae: 0.0325\n",
            "Epoch 64/200\n",
            "\u001b[1m79/79\u001b[0m \u001b[32m━━━━━━━━━━━━━━━━━━━━\u001b[0m\u001b[37m\u001b[0m \u001b[1m2s\u001b[0m 27ms/step - loss: 7.4591e-04 - mae: 0.0192 - val_loss: 0.0020 - val_mae: 0.0323\n",
            "Epoch 65/200\n",
            "\u001b[1m79/79\u001b[0m \u001b[32m━━━━━━━━━━━━━━━━━━━━\u001b[0m\u001b[37m\u001b[0m \u001b[1m3s\u001b[0m 28ms/step - loss: 7.3312e-04 - mae: 0.0190 - val_loss: 0.0020 - val_mae: 0.0322\n",
            "Epoch 66/200\n",
            "\u001b[1m79/79\u001b[0m \u001b[32m━━━━━━━━━━━━━━━━━━━━\u001b[0m\u001b[37m\u001b[0m \u001b[1m3s\u001b[0m 27ms/step - loss: 7.1501e-04 - mae: 0.0187 - val_loss: 0.0020 - val_mae: 0.0326\n",
            "Epoch 67/200\n",
            "\u001b[1m79/79\u001b[0m \u001b[32m━━━━━━━━━━━━━━━━━━━━\u001b[0m\u001b[37m\u001b[0m \u001b[1m2s\u001b[0m 27ms/step - loss: 7.2290e-04 - mae: 0.0189 - val_loss: 0.0020 - val_mae: 0.0321\n",
            "Epoch 68/200\n",
            "\u001b[1m79/79\u001b[0m \u001b[32m━━━━━━━━━━━━━━━━━━━━\u001b[0m\u001b[37m\u001b[0m \u001b[1m3s\u001b[0m 28ms/step - loss: 7.0367e-04 - mae: 0.0186 - val_loss: 0.0020 - val_mae: 0.0321\n",
            "Epoch 69/200\n",
            "\u001b[1m79/79\u001b[0m \u001b[32m━━━━━━━━━━━━━━━━━━━━\u001b[0m\u001b[37m\u001b[0m \u001b[1m2s\u001b[0m 28ms/step - loss: 6.9171e-04 - mae: 0.0184 - val_loss: 0.0020 - val_mae: 0.0320\n",
            "Epoch 70/200\n",
            "\u001b[1m79/79\u001b[0m \u001b[32m━━━━━━━━━━━━━━━━━━━━\u001b[0m\u001b[37m\u001b[0m \u001b[1m3s\u001b[0m 28ms/step - loss: 6.8694e-04 - mae: 0.0184 - val_loss: 0.0020 - val_mae: 0.0319\n",
            "Epoch 71/200\n",
            "\u001b[1m79/79\u001b[0m \u001b[32m━━━━━━━━━━━━━━━━━━━━\u001b[0m\u001b[37m\u001b[0m \u001b[1m2s\u001b[0m 28ms/step - loss: 6.6680e-04 - mae: 0.0180 - val_loss: 0.0020 - val_mae: 0.0321\n",
            "Epoch 72/200\n",
            "\u001b[1m79/79\u001b[0m \u001b[32m━━━━━━━━━━━━━━━━━━━━\u001b[0m\u001b[37m\u001b[0m \u001b[1m3s\u001b[0m 28ms/step - loss: 6.5602e-04 - mae: 0.0179 - val_loss: 0.0020 - val_mae: 0.0320\n",
            "Epoch 73/200\n",
            "\u001b[1m79/79\u001b[0m \u001b[32m━━━━━━━━━━━━━━━━━━━━\u001b[0m\u001b[37m\u001b[0m \u001b[1m3s\u001b[0m 28ms/step - loss: 6.6157e-04 - mae: 0.0180 - val_loss: 0.0020 - val_mae: 0.0318\n",
            "Epoch 74/200\n",
            "\u001b[1m79/79\u001b[0m \u001b[32m━━━━━━━━━━━━━━━━━━━━\u001b[0m\u001b[37m\u001b[0m \u001b[1m2s\u001b[0m 29ms/step - loss: 6.4059e-04 - mae: 0.0176 - val_loss: 0.0020 - val_mae: 0.0317\n",
            "Epoch 75/200\n",
            "\u001b[1m79/79\u001b[0m \u001b[32m━━━━━━━━━━━━━━━━━━━━\u001b[0m\u001b[37m\u001b[0m \u001b[1m2s\u001b[0m 28ms/step - loss: 6.4197e-04 - mae: 0.0176 - val_loss: 0.0020 - val_mae: 0.0317\n",
            "Epoch 76/200\n",
            "\u001b[1m79/79\u001b[0m \u001b[32m━━━━━━━━━━━━━━━━━━━━\u001b[0m\u001b[37m\u001b[0m \u001b[1m3s\u001b[0m 28ms/step - loss: 6.2274e-04 - mae: 0.0174 - val_loss: 0.0020 - val_mae: 0.0316\n",
            "Epoch 77/200\n",
            "\u001b[1m79/79\u001b[0m \u001b[32m━━━━━━━━━━━━━━━━━━━━\u001b[0m\u001b[37m\u001b[0m \u001b[1m3s\u001b[0m 28ms/step - loss: 6.1686e-04 - mae: 0.0172 - val_loss: 0.0020 - val_mae: 0.0316\n",
            "Epoch 78/200\n",
            "\u001b[1m79/79\u001b[0m \u001b[32m━━━━━━━━━━━━━━━━━━━━\u001b[0m\u001b[37m\u001b[0m \u001b[1m2s\u001b[0m 27ms/step - loss: 6.1276e-04 - mae: 0.0172 - val_loss: 0.0020 - val_mae: 0.0315\n",
            "Epoch 79/200\n",
            "\u001b[1m79/79\u001b[0m \u001b[32m━━━━━━━━━━━━━━━━━━━━\u001b[0m\u001b[37m\u001b[0m \u001b[1m2s\u001b[0m 28ms/step - loss: 5.9919e-04 - mae: 0.0170 - val_loss: 0.0020 - val_mae: 0.0314\n",
            "Epoch 80/200\n",
            "\u001b[1m79/79\u001b[0m \u001b[32m━━━━━━━━━━━━━━━━━━━━\u001b[0m\u001b[37m\u001b[0m \u001b[1m2s\u001b[0m 28ms/step - loss: 5.9682e-04 - mae: 0.0170 - val_loss: 0.0019 - val_mae: 0.0314\n",
            "Epoch 81/200\n",
            "\u001b[1m79/79\u001b[0m \u001b[32m━━━━━━━━━━━━━━━━━━━━\u001b[0m\u001b[37m\u001b[0m \u001b[1m3s\u001b[0m 29ms/step - loss: 5.8763e-04 - mae: 0.0168 - val_loss: 0.0020 - val_mae: 0.0316\n",
            "Epoch 82/200\n",
            "\u001b[1m79/79\u001b[0m \u001b[32m━━━━━━━━━━━━━━━━━━━━\u001b[0m\u001b[37m\u001b[0m \u001b[1m2s\u001b[0m 28ms/step - loss: 5.9858e-04 - mae: 0.0171 - val_loss: 0.0020 - val_mae: 0.0314\n",
            "Epoch 83/200\n",
            "\u001b[1m79/79\u001b[0m \u001b[32m━━━━━━━━━━━━━━━━━━━━\u001b[0m\u001b[37m\u001b[0m \u001b[1m2s\u001b[0m 28ms/step - loss: 5.6627e-04 - mae: 0.0165 - val_loss: 0.0019 - val_mae: 0.0313\n",
            "Epoch 84/200\n",
            "\u001b[1m79/79\u001b[0m \u001b[32m━━━━━━━━━━━━━━━━━━━━\u001b[0m\u001b[37m\u001b[0m \u001b[1m3s\u001b[0m 29ms/step - loss: 5.5651e-04 - mae: 0.0163 - val_loss: 0.0020 - val_mae: 0.0313\n",
            "Epoch 85/200\n",
            "\u001b[1m79/79\u001b[0m \u001b[32m━━━━━━━━━━━━━━━━━━━━\u001b[0m\u001b[37m\u001b[0m \u001b[1m2s\u001b[0m 28ms/step - loss: 5.5431e-04 - mae: 0.0162 - val_loss: 0.0020 - val_mae: 0.0313\n",
            "Epoch 86/200\n",
            "\u001b[1m79/79\u001b[0m \u001b[32m━━━━━━━━━━━━━━━━━━━━\u001b[0m\u001b[37m\u001b[0m \u001b[1m3s\u001b[0m 29ms/step - loss: 5.4697e-04 - mae: 0.0161 - val_loss: 0.0019 - val_mae: 0.0312\n",
            "Epoch 87/200\n",
            "\u001b[1m79/79\u001b[0m \u001b[32m━━━━━━━━━━━━━━━━━━━━\u001b[0m\u001b[37m\u001b[0m \u001b[1m2s\u001b[0m 28ms/step - loss: 5.4178e-04 - mae: 0.0160 - val_loss: 0.0019 - val_mae: 0.0312\n",
            "Epoch 88/200\n",
            "\u001b[1m79/79\u001b[0m \u001b[32m━━━━━━━━━━━━━━━━━━━━\u001b[0m\u001b[37m\u001b[0m \u001b[1m3s\u001b[0m 29ms/step - loss: 5.3236e-04 - mae: 0.0159 - val_loss: 0.0019 - val_mae: 0.0311\n",
            "Epoch 89/200\n",
            "\u001b[1m79/79\u001b[0m \u001b[32m━━━━━━━━━━━━━━━━━━━━\u001b[0m\u001b[37m\u001b[0m \u001b[1m2s\u001b[0m 28ms/step - loss: 5.2115e-04 - mae: 0.0157 - val_loss: 0.0020 - val_mae: 0.0314\n",
            "Epoch 90/200\n",
            "\u001b[1m79/79\u001b[0m \u001b[32m━━━━━━━━━━━━━━━━━━━━\u001b[0m\u001b[37m\u001b[0m \u001b[1m3s\u001b[0m 29ms/step - loss: 5.3201e-04 - mae: 0.0160 - val_loss: 0.0019 - val_mae: 0.0311\n",
            "Epoch 91/200\n",
            "\u001b[1m79/79\u001b[0m \u001b[32m━━━━━━━━━━━━━━━━━━━━\u001b[0m\u001b[37m\u001b[0m \u001b[1m2s\u001b[0m 28ms/step - loss: 5.1945e-04 - mae: 0.0157 - val_loss: 0.0019 - val_mae: 0.0311\n",
            "Epoch 92/200\n",
            "\u001b[1m79/79\u001b[0m \u001b[32m━━━━━━━━━━━━━━━━━━━━\u001b[0m\u001b[37m\u001b[0m \u001b[1m3s\u001b[0m 28ms/step - loss: 5.0859e-04 - mae: 0.0155 - val_loss: 0.0019 - val_mae: 0.0311\n",
            "Epoch 93/200\n",
            "\u001b[1m79/79\u001b[0m \u001b[32m━━━━━━━━━━━━━━━━━━━━\u001b[0m\u001b[37m\u001b[0m \u001b[1m2s\u001b[0m 27ms/step - loss: 5.2255e-04 - mae: 0.0159 - val_loss: 0.0019 - val_mae: 0.0311\n",
            "Epoch 94/200\n",
            "\u001b[1m79/79\u001b[0m \u001b[32m━━━━━━━━━━━━━━━━━━━━\u001b[0m\u001b[37m\u001b[0m \u001b[1m3s\u001b[0m 28ms/step - loss: 4.9752e-04 - mae: 0.0153 - val_loss: 0.0019 - val_mae: 0.0309\n",
            "Epoch 95/200\n",
            "\u001b[1m79/79\u001b[0m \u001b[32m━━━━━━━━━━━━━━━━━━━━\u001b[0m\u001b[37m\u001b[0m \u001b[1m2s\u001b[0m 29ms/step - loss: 4.9098e-04 - mae: 0.0152 - val_loss: 0.0019 - val_mae: 0.0307\n",
            "Epoch 96/200\n",
            "\u001b[1m79/79\u001b[0m \u001b[32m━━━━━━━━━━━━━━━━━━━━\u001b[0m\u001b[37m\u001b[0m \u001b[1m2s\u001b[0m 29ms/step - loss: 4.8452e-04 - mae: 0.0151 - val_loss: 0.0019 - val_mae: 0.0310\n",
            "Epoch 97/200\n",
            "\u001b[1m79/79\u001b[0m \u001b[32m━━━━━━━━━━━━━━━━━━━━\u001b[0m\u001b[37m\u001b[0m \u001b[1m2s\u001b[0m 29ms/step - loss: 4.8591e-04 - mae: 0.0151 - val_loss: 0.0019 - val_mae: 0.0309\n",
            "Epoch 98/200\n",
            "\u001b[1m79/79\u001b[0m \u001b[32m━━━━━━━━━━━━━━━━━━━━\u001b[0m\u001b[37m\u001b[0m \u001b[1m2s\u001b[0m 28ms/step - loss: 5.1016e-04 - mae: 0.0158 - val_loss: 0.0019 - val_mae: 0.0308\n",
            "Epoch 99/200\n",
            "\u001b[1m79/79\u001b[0m \u001b[32m━━━━━━━━━━━━━━━━━━━━\u001b[0m\u001b[37m\u001b[0m \u001b[1m3s\u001b[0m 28ms/step - loss: 4.7031e-04 - mae: 0.0148 - val_loss: 0.0019 - val_mae: 0.0308\n",
            "Epoch 100/200\n",
            "\u001b[1m79/79\u001b[0m \u001b[32m━━━━━━━━━━━━━━━━━━━━\u001b[0m\u001b[37m\u001b[0m \u001b[1m2s\u001b[0m 28ms/step - loss: 4.6505e-04 - mae: 0.0147 - val_loss: 0.0019 - val_mae: 0.0308\n",
            "Epoch 101/200\n",
            "\u001b[1m79/79\u001b[0m \u001b[32m━━━━━━━━━━━━━━━━━━━━\u001b[0m\u001b[37m\u001b[0m \u001b[1m3s\u001b[0m 29ms/step - loss: 4.5745e-04 - mae: 0.0146 - val_loss: 0.0019 - val_mae: 0.0307\n",
            "Epoch 102/200\n",
            "\u001b[1m79/79\u001b[0m \u001b[32m━━━━━━━━━━━━━━━━━━━━\u001b[0m\u001b[37m\u001b[0m \u001b[1m2s\u001b[0m 29ms/step - loss: 4.5930e-04 - mae: 0.0147 - val_loss: 0.0019 - val_mae: 0.0307\n",
            "Epoch 103/200\n",
            "\u001b[1m79/79\u001b[0m \u001b[32m━━━━━━━━━━━━━━━━━━━━\u001b[0m\u001b[37m\u001b[0m \u001b[1m2s\u001b[0m 29ms/step - loss: 4.5398e-04 - mae: 0.0146 - val_loss: 0.0019 - val_mae: 0.0310\n",
            "Epoch 104/200\n",
            "\u001b[1m79/79\u001b[0m \u001b[32m━━━━━━━━━━━━━━━━━━━━\u001b[0m\u001b[37m\u001b[0m \u001b[1m3s\u001b[0m 29ms/step - loss: 4.5794e-04 - mae: 0.0148 - val_loss: 0.0019 - val_mae: 0.0308\n",
            "Epoch 105/200\n",
            "\u001b[1m79/79\u001b[0m \u001b[32m━━━━━━━━━━━━━━━━━━━━\u001b[0m\u001b[37m\u001b[0m \u001b[1m3s\u001b[0m 29ms/step - loss: 4.4531e-04 - mae: 0.0145 - val_loss: 0.0019 - val_mae: 0.0306\n",
            "Epoch 106/200\n",
            "\u001b[1m79/79\u001b[0m \u001b[32m━━━━━━━━━━━━━━━━━━━━\u001b[0m\u001b[37m\u001b[0m \u001b[1m3s\u001b[0m 29ms/step - loss: 4.3996e-04 - mae: 0.0143 - val_loss: 0.0019 - val_mae: 0.0306\n",
            "Epoch 107/200\n",
            "\u001b[1m79/79\u001b[0m \u001b[32m━━━━━━━━━━━━━━━━━━━━\u001b[0m\u001b[37m\u001b[0m \u001b[1m3s\u001b[0m 29ms/step - loss: 4.3575e-04 - mae: 0.0142 - val_loss: 0.0019 - val_mae: 0.0305\n",
            "Epoch 108/200\n",
            "\u001b[1m79/79\u001b[0m \u001b[32m━━━━━━━━━━━━━━━━━━━━\u001b[0m\u001b[37m\u001b[0m \u001b[1m3s\u001b[0m 29ms/step - loss: 4.3186e-04 - mae: 0.0142 - val_loss: 0.0019 - val_mae: 0.0305\n",
            "Epoch 109/200\n",
            "\u001b[1m79/79\u001b[0m \u001b[32m━━━━━━━━━━━━━━━━━━━━\u001b[0m\u001b[37m\u001b[0m \u001b[1m3s\u001b[0m 29ms/step - loss: 4.1906e-04 - mae: 0.0139 - val_loss: 0.0019 - val_mae: 0.0306\n",
            "Epoch 110/200\n",
            "\u001b[1m79/79\u001b[0m \u001b[32m━━━━━━━━━━━━━━━━━━━━\u001b[0m\u001b[37m\u001b[0m \u001b[1m2s\u001b[0m 29ms/step - loss: 4.3305e-04 - mae: 0.0143 - val_loss: 0.0019 - val_mae: 0.0305\n",
            "Epoch 111/200\n",
            "\u001b[1m79/79\u001b[0m \u001b[32m━━━━━━━━━━━━━━━━━━━━\u001b[0m\u001b[37m\u001b[0m \u001b[1m2s\u001b[0m 28ms/step - loss: 4.2158e-04 - mae: 0.0141 - val_loss: 0.0019 - val_mae: 0.0306\n",
            "Epoch 112/200\n",
            "\u001b[1m79/79\u001b[0m \u001b[32m━━━━━━━━━━━━━━━━━━━━\u001b[0m\u001b[37m\u001b[0m \u001b[1m3s\u001b[0m 30ms/step - loss: 4.0587e-04 - mae: 0.0137 - val_loss: 0.0019 - val_mae: 0.0306\n",
            "Epoch 113/200\n",
            "\u001b[1m79/79\u001b[0m \u001b[32m━━━━━━━━━━━━━━━━━━━━\u001b[0m\u001b[37m\u001b[0m \u001b[1m2s\u001b[0m 29ms/step - loss: 4.0845e-04 - mae: 0.0138 - val_loss: 0.0019 - val_mae: 0.0305\n",
            "Epoch 114/200\n",
            "\u001b[1m79/79\u001b[0m \u001b[32m━━━━━━━━━━━━━━━━━━━━\u001b[0m\u001b[37m\u001b[0m \u001b[1m2s\u001b[0m 29ms/step - loss: 4.1175e-04 - mae: 0.0139 - val_loss: 0.0019 - val_mae: 0.0306\n",
            "Epoch 115/200\n",
            "\u001b[1m79/79\u001b[0m \u001b[32m━━━━━━━━━━━━━━━━━━━━\u001b[0m\u001b[37m\u001b[0m \u001b[1m2s\u001b[0m 29ms/step - loss: 4.2066e-04 - mae: 0.0142 - val_loss: 0.0019 - val_mae: 0.0304\n",
            "Epoch 116/200\n",
            "\u001b[1m79/79\u001b[0m \u001b[32m━━━━━━━━━━━━━━━━━━━━\u001b[0m\u001b[37m\u001b[0m \u001b[1m3s\u001b[0m 29ms/step - loss: 3.8715e-04 - mae: 0.0134 - val_loss: 0.0019 - val_mae: 0.0305\n",
            "Epoch 117/200\n",
            "\u001b[1m79/79\u001b[0m \u001b[32m━━━━━━━━━━━━━━━━━━━━\u001b[0m\u001b[37m\u001b[0m \u001b[1m3s\u001b[0m 29ms/step - loss: 3.9008e-04 - mae: 0.0134 - val_loss: 0.0019 - val_mae: 0.0303\n",
            "Epoch 118/200\n",
            "\u001b[1m79/79\u001b[0m \u001b[32m━━━━━━━━━━━━━━━━━━━━\u001b[0m\u001b[37m\u001b[0m \u001b[1m3s\u001b[0m 29ms/step - loss: 3.8647e-04 - mae: 0.0134 - val_loss: 0.0019 - val_mae: 0.0304\n",
            "Epoch 119/200\n",
            "\u001b[1m79/79\u001b[0m \u001b[32m━━━━━━━━━━━━━━━━━━━━\u001b[0m\u001b[37m\u001b[0m \u001b[1m2s\u001b[0m 28ms/step - loss: 3.8319e-04 - mae: 0.0133 - val_loss: 0.0019 - val_mae: 0.0303\n",
            "Epoch 120/200\n",
            "\u001b[1m79/79\u001b[0m \u001b[32m━━━━━━━━━━━━━━━━━━━━\u001b[0m\u001b[37m\u001b[0m \u001b[1m3s\u001b[0m 28ms/step - loss: 3.8371e-04 - mae: 0.0133 - val_loss: 0.0019 - val_mae: 0.0304\n",
            "Epoch 121/200\n",
            "\u001b[1m79/79\u001b[0m \u001b[32m━━━━━━━━━━━━━━━━━━━━\u001b[0m\u001b[37m\u001b[0m \u001b[1m3s\u001b[0m 29ms/step - loss: 3.8228e-04 - mae: 0.0133 - val_loss: 0.0019 - val_mae: 0.0308\n",
            "Epoch 122/200\n",
            "\u001b[1m79/79\u001b[0m \u001b[32m━━━━━━━━━━━━━━━━━━━━\u001b[0m\u001b[37m\u001b[0m \u001b[1m3s\u001b[0m 29ms/step - loss: 3.8303e-04 - mae: 0.0134 - val_loss: 0.0019 - val_mae: 0.0302\n",
            "Epoch 123/200\n",
            "\u001b[1m79/79\u001b[0m \u001b[32m━━━━━━━━━━━━━━━━━━━━\u001b[0m\u001b[37m\u001b[0m \u001b[1m2s\u001b[0m 30ms/step - loss: 3.6602e-04 - mae: 0.0129 - val_loss: 0.0019 - val_mae: 0.0301\n",
            "Epoch 124/200\n",
            "\u001b[1m79/79\u001b[0m \u001b[32m━━━━━━━━━━━━━━━━━━━━\u001b[0m\u001b[37m\u001b[0m \u001b[1m2s\u001b[0m 29ms/step - loss: 3.6612e-04 - mae: 0.0129 - val_loss: 0.0019 - val_mae: 0.0302\n",
            "Epoch 125/200\n",
            "\u001b[1m79/79\u001b[0m \u001b[32m━━━━━━━━━━━━━━━━━━━━\u001b[0m\u001b[37m\u001b[0m \u001b[1m2s\u001b[0m 29ms/step - loss: 3.6031e-04 - mae: 0.0128 - val_loss: 0.0019 - val_mae: 0.0302\n",
            "Epoch 126/200\n",
            "\u001b[1m79/79\u001b[0m \u001b[32m━━━━━━━━━━━━━━━━━━━━\u001b[0m\u001b[37m\u001b[0m \u001b[1m2s\u001b[0m 28ms/step - loss: 3.8279e-04 - mae: 0.0135 - val_loss: 0.0019 - val_mae: 0.0301\n",
            "Epoch 127/200\n",
            "\u001b[1m79/79\u001b[0m \u001b[32m━━━━━━━━━━━━━━━━━━━━\u001b[0m\u001b[37m\u001b[0m \u001b[1m3s\u001b[0m 29ms/step - loss: 3.5198e-04 - mae: 0.0127 - val_loss: 0.0019 - val_mae: 0.0301\n",
            "Epoch 128/200\n",
            "\u001b[1m79/79\u001b[0m \u001b[32m━━━━━━━━━━━━━━━━━━━━\u001b[0m\u001b[37m\u001b[0m \u001b[1m2s\u001b[0m 29ms/step - loss: 3.5416e-04 - mae: 0.0127 - val_loss: 0.0019 - val_mae: 0.0301\n",
            "Epoch 129/200\n",
            "\u001b[1m79/79\u001b[0m \u001b[32m━━━━━━━━━━━━━━━━━━━━\u001b[0m\u001b[37m\u001b[0m \u001b[1m2s\u001b[0m 30ms/step - loss: 3.6032e-04 - mae: 0.0129 - val_loss: 0.0019 - val_mae: 0.0300\n",
            "Epoch 130/200\n",
            "\u001b[1m79/79\u001b[0m \u001b[32m━━━━━━━━━━━━━━━━━━━━\u001b[0m\u001b[37m\u001b[0m \u001b[1m2s\u001b[0m 29ms/step - loss: 3.4261e-04 - mae: 0.0125 - val_loss: 0.0019 - val_mae: 0.0301\n",
            "Epoch 131/200\n",
            "\u001b[1m79/79\u001b[0m \u001b[32m━━━━━━━━━━━━━━━━━━━━\u001b[0m\u001b[37m\u001b[0m \u001b[1m3s\u001b[0m 29ms/step - loss: 3.4806e-04 - mae: 0.0125 - val_loss: 0.0019 - val_mae: 0.0309\n",
            "Epoch 132/200\n",
            "\u001b[1m79/79\u001b[0m \u001b[32m━━━━━━━━━━━━━━━━━━━━\u001b[0m\u001b[37m\u001b[0m \u001b[1m3s\u001b[0m 29ms/step - loss: 3.4900e-04 - mae: 0.0128 - val_loss: 0.0019 - val_mae: 0.0300\n",
            "Epoch 133/200\n",
            "\u001b[1m79/79\u001b[0m \u001b[32m━━━━━━━━━━━━━━━━━━━━\u001b[0m\u001b[37m\u001b[0m \u001b[1m2s\u001b[0m 29ms/step - loss: 3.4051e-04 - mae: 0.0125 - val_loss: 0.0019 - val_mae: 0.0301\n",
            "Epoch 134/200\n",
            "\u001b[1m79/79\u001b[0m \u001b[32m━━━━━━━━━━━━━━━━━━━━\u001b[0m\u001b[37m\u001b[0m \u001b[1m3s\u001b[0m 29ms/step - loss: 3.3176e-04 - mae: 0.0123 - val_loss: 0.0019 - val_mae: 0.0299\n",
            "Epoch 135/200\n",
            "\u001b[1m79/79\u001b[0m \u001b[32m━━━━━━━━━━━━━━━━━━━━\u001b[0m\u001b[37m\u001b[0m \u001b[1m2s\u001b[0m 29ms/step - loss: 3.3557e-04 - mae: 0.0123 - val_loss: 0.0019 - val_mae: 0.0299\n",
            "Epoch 136/200\n",
            "\u001b[1m79/79\u001b[0m \u001b[32m━━━━━━━━━━━━━━━━━━━━\u001b[0m\u001b[37m\u001b[0m \u001b[1m3s\u001b[0m 29ms/step - loss: 3.3723e-04 - mae: 0.0125 - val_loss: 0.0019 - val_mae: 0.0299\n",
            "Epoch 137/200\n",
            "\u001b[1m79/79\u001b[0m \u001b[32m━━━━━━━━━━━━━━━━━━━━\u001b[0m\u001b[37m\u001b[0m \u001b[1m2s\u001b[0m 28ms/step - loss: 3.2267e-04 - mae: 0.0121 - val_loss: 0.0019 - val_mae: 0.0299\n",
            "Epoch 138/200\n",
            "\u001b[1m79/79\u001b[0m \u001b[32m━━━━━━━━━━━━━━━━━━━━\u001b[0m\u001b[37m\u001b[0m \u001b[1m2s\u001b[0m 28ms/step - loss: 3.3183e-04 - mae: 0.0123 - val_loss: 0.0019 - val_mae: 0.0303\n",
            "Epoch 139/200\n",
            "\u001b[1m79/79\u001b[0m \u001b[32m━━━━━━━━━━━━━━━━━━━━\u001b[0m\u001b[37m\u001b[0m \u001b[1m3s\u001b[0m 29ms/step - loss: 3.1694e-04 - mae: 0.0121 - val_loss: 0.0019 - val_mae: 0.0300\n",
            "Epoch 140/200\n",
            "\u001b[1m79/79\u001b[0m \u001b[32m━━━━━━━━━━━━━━━━━━━━\u001b[0m\u001b[37m\u001b[0m \u001b[1m2s\u001b[0m 29ms/step - loss: 3.1763e-04 - mae: 0.0120 - val_loss: 0.0019 - val_mae: 0.0299\n",
            "Epoch 141/200\n",
            "\u001b[1m79/79\u001b[0m \u001b[32m━━━━━━━━━━━━━━━━━━━━\u001b[0m\u001b[37m\u001b[0m \u001b[1m2s\u001b[0m 28ms/step - loss: 3.1461e-04 - mae: 0.0119 - val_loss: 0.0019 - val_mae: 0.0301\n",
            "Epoch 142/200\n",
            "\u001b[1m79/79\u001b[0m \u001b[32m━━━━━━━━━━━━━━━━━━━━\u001b[0m\u001b[37m\u001b[0m \u001b[1m2s\u001b[0m 28ms/step - loss: 3.1874e-04 - mae: 0.0121 - val_loss: 0.0019 - val_mae: 0.0298\n",
            "Epoch 143/200\n",
            "\u001b[1m79/79\u001b[0m \u001b[32m━━━━━━━━━━━━━━━━━━━━\u001b[0m\u001b[37m\u001b[0m \u001b[1m3s\u001b[0m 28ms/step - loss: 3.1392e-04 - mae: 0.0120 - val_loss: 0.0019 - val_mae: 0.0299\n",
            "Epoch 144/200\n",
            "\u001b[1m79/79\u001b[0m \u001b[32m━━━━━━━━━━━━━━━━━━━━\u001b[0m\u001b[37m\u001b[0m \u001b[1m2s\u001b[0m 27ms/step - loss: 3.0923e-04 - mae: 0.0118 - val_loss: 0.0019 - val_mae: 0.0298\n",
            "Epoch 145/200\n",
            "\u001b[1m79/79\u001b[0m \u001b[32m━━━━━━━━━━━━━━━━━━━━\u001b[0m\u001b[37m\u001b[0m \u001b[1m2s\u001b[0m 29ms/step - loss: 3.0711e-04 - mae: 0.0118 - val_loss: 0.0019 - val_mae: 0.0299\n",
            "Epoch 146/200\n",
            "\u001b[1m79/79\u001b[0m \u001b[32m━━━━━━━━━━━━━━━━━━━━\u001b[0m\u001b[37m\u001b[0m \u001b[1m2s\u001b[0m 28ms/step - loss: 3.0733e-04 - mae: 0.0118 - val_loss: 0.0019 - val_mae: 0.0302\n",
            "Epoch 147/200\n",
            "\u001b[1m79/79\u001b[0m \u001b[32m━━━━━━━━━━━━━━━━━━━━\u001b[0m\u001b[37m\u001b[0m \u001b[1m3s\u001b[0m 28ms/step - loss: 3.0434e-04 - mae: 0.0118 - val_loss: 0.0019 - val_mae: 0.0298\n",
            "Epoch 148/200\n",
            "\u001b[1m79/79\u001b[0m \u001b[32m━━━━━━━━━━━━━━━━━━━━\u001b[0m\u001b[37m\u001b[0m \u001b[1m2s\u001b[0m 27ms/step - loss: 2.9701e-04 - mae: 0.0116 - val_loss: 0.0019 - val_mae: 0.0298\n",
            "Epoch 149/200\n",
            "\u001b[1m79/79\u001b[0m \u001b[32m━━━━━━━━━━━━━━━━━━━━\u001b[0m\u001b[37m\u001b[0m \u001b[1m2s\u001b[0m 28ms/step - loss: 3.0108e-04 - mae: 0.0117 - val_loss: 0.0019 - val_mae: 0.0298\n",
            "Epoch 150/200\n",
            "\u001b[1m79/79\u001b[0m \u001b[32m━━━━━━━━━━━━━━━━━━━━\u001b[0m\u001b[37m\u001b[0m \u001b[1m3s\u001b[0m 28ms/step - loss: 2.9633e-04 - mae: 0.0115 - val_loss: 0.0019 - val_mae: 0.0298\n",
            "Epoch 151/200\n",
            "\u001b[1m79/79\u001b[0m \u001b[32m━━━━━━━━━━━━━━━━━━━━\u001b[0m\u001b[37m\u001b[0m \u001b[1m3s\u001b[0m 28ms/step - loss: 2.9677e-04 - mae: 0.0117 - val_loss: 0.0019 - val_mae: 0.0298\n",
            "Epoch 152/200\n",
            "\u001b[1m79/79\u001b[0m \u001b[32m━━━━━━━━━━━━━━━━━━━━\u001b[0m\u001b[37m\u001b[0m \u001b[1m3s\u001b[0m 28ms/step - loss: 2.9233e-04 - mae: 0.0115 - val_loss: 0.0019 - val_mae: 0.0301\n",
            "Epoch 153/200\n",
            "\u001b[1m79/79\u001b[0m \u001b[32m━━━━━━━━━━━━━━━━━━━━\u001b[0m\u001b[37m\u001b[0m \u001b[1m2s\u001b[0m 28ms/step - loss: 2.9745e-04 - mae: 0.0117 - val_loss: 0.0019 - val_mae: 0.0298\n",
            "Epoch 154/200\n",
            "\u001b[1m79/79\u001b[0m \u001b[32m━━━━━━━━━━━━━━━━━━━━\u001b[0m\u001b[37m\u001b[0m \u001b[1m3s\u001b[0m 28ms/step - loss: 2.8506e-04 - mae: 0.0113 - val_loss: 0.0019 - val_mae: 0.0296\n",
            "Epoch 155/200\n",
            "\u001b[1m79/79\u001b[0m \u001b[32m━━━━━━━━━━━━━━━━━━━━\u001b[0m\u001b[37m\u001b[0m \u001b[1m2s\u001b[0m 28ms/step - loss: 2.8390e-04 - mae: 0.0113 - val_loss: 0.0019 - val_mae: 0.0296\n",
            "Epoch 156/200\n",
            "\u001b[1m79/79\u001b[0m \u001b[32m━━━━━━━━━━━━━━━━━━━━\u001b[0m\u001b[37m\u001b[0m \u001b[1m3s\u001b[0m 30ms/step - loss: 2.8641e-04 - mae: 0.0114 - val_loss: 0.0019 - val_mae: 0.0297\n",
            "Epoch 157/200\n",
            "\u001b[1m79/79\u001b[0m \u001b[32m━━━━━━━━━━━━━━━━━━━━\u001b[0m\u001b[37m\u001b[0m \u001b[1m2s\u001b[0m 29ms/step - loss: 2.8207e-04 - mae: 0.0113 - val_loss: 0.0019 - val_mae: 0.0296\n",
            "Epoch 158/200\n",
            "\u001b[1m79/79\u001b[0m \u001b[32m━━━━━━━━━━━━━━━━━━━━\u001b[0m\u001b[37m\u001b[0m \u001b[1m2s\u001b[0m 29ms/step - loss: 2.7807e-04 - mae: 0.0112 - val_loss: 0.0019 - val_mae: 0.0298\n",
            "Epoch 159/200\n",
            "\u001b[1m79/79\u001b[0m \u001b[32m━━━━━━━━━━━━━━━━━━━━\u001b[0m\u001b[37m\u001b[0m \u001b[1m2s\u001b[0m 29ms/step - loss: 2.8008e-04 - mae: 0.0112 - val_loss: 0.0019 - val_mae: 0.0298\n",
            "Epoch 160/200\n",
            "\u001b[1m79/79\u001b[0m \u001b[32m━━━━━━━━━━━━━━━━━━━━\u001b[0m\u001b[37m\u001b[0m \u001b[1m3s\u001b[0m 29ms/step - loss: 2.7357e-04 - mae: 0.0111 - val_loss: 0.0019 - val_mae: 0.0300\n",
            "Epoch 161/200\n",
            "\u001b[1m79/79\u001b[0m \u001b[32m━━━━━━━━━━━━━━━━━━━━\u001b[0m\u001b[37m\u001b[0m \u001b[1m3s\u001b[0m 29ms/step - loss: 2.8405e-04 - mae: 0.0114 - val_loss: 0.0019 - val_mae: 0.0296\n",
            "Epoch 162/200\n",
            "\u001b[1m79/79\u001b[0m \u001b[32m━━━━━━━━━━━━━━━━━━━━\u001b[0m\u001b[37m\u001b[0m \u001b[1m2s\u001b[0m 30ms/step - loss: 2.7175e-04 - mae: 0.0110 - val_loss: 0.0019 - val_mae: 0.0297\n",
            "Epoch 163/200\n",
            "\u001b[1m79/79\u001b[0m \u001b[32m━━━━━━━━━━━━━━━━━━━━\u001b[0m\u001b[37m\u001b[0m \u001b[1m2s\u001b[0m 29ms/step - loss: 2.7139e-04 - mae: 0.0111 - val_loss: 0.0019 - val_mae: 0.0296\n",
            "Epoch 164/200\n",
            "\u001b[1m79/79\u001b[0m \u001b[32m━━━━━━━━━━━━━━━━━━━━\u001b[0m\u001b[37m\u001b[0m \u001b[1m2s\u001b[0m 29ms/step - loss: 2.7412e-04 - mae: 0.0112 - val_loss: 0.0019 - val_mae: 0.0296\n",
            "Epoch 165/200\n",
            "\u001b[1m79/79\u001b[0m \u001b[32m━━━━━━━━━━━━━━━━━━━━\u001b[0m\u001b[37m\u001b[0m \u001b[1m2s\u001b[0m 29ms/step - loss: 2.6295e-04 - mae: 0.0109 - val_loss: 0.0019 - val_mae: 0.0296\n",
            "Epoch 166/200\n",
            "\u001b[1m79/79\u001b[0m \u001b[32m━━━━━━━━━━━━━━━━━━━━\u001b[0m\u001b[37m\u001b[0m \u001b[1m3s\u001b[0m 29ms/step - loss: 2.6718e-04 - mae: 0.0109 - val_loss: 0.0019 - val_mae: 0.0297\n",
            "Epoch 167/200\n",
            "\u001b[1m79/79\u001b[0m \u001b[32m━━━━━━━━━━━━━━━━━━━━\u001b[0m\u001b[37m\u001b[0m \u001b[1m2s\u001b[0m 30ms/step - loss: 2.6613e-04 - mae: 0.0110 - val_loss: 0.0019 - val_mae: 0.0296\n",
            "Epoch 168/200\n",
            "\u001b[1m79/79\u001b[0m \u001b[32m━━━━━━━━━━━━━━━━━━━━\u001b[0m\u001b[37m\u001b[0m \u001b[1m3s\u001b[0m 29ms/step - loss: 2.6136e-04 - mae: 0.0108 - val_loss: 0.0019 - val_mae: 0.0295\n",
            "Epoch 169/200\n",
            "\u001b[1m79/79\u001b[0m \u001b[32m━━━━━━━━━━━━━━━━━━━━\u001b[0m\u001b[37m\u001b[0m \u001b[1m2s\u001b[0m 29ms/step - loss: 2.6114e-04 - mae: 0.0108 - val_loss: 0.0019 - val_mae: 0.0303\n",
            "Epoch 170/200\n",
            "\u001b[1m79/79\u001b[0m \u001b[32m━━━━━━━━━━━━━━━━━━━━\u001b[0m\u001b[37m\u001b[0m \u001b[1m3s\u001b[0m 29ms/step - loss: 2.9638e-04 - mae: 0.0121 - val_loss: 0.0019 - val_mae: 0.0295\n",
            "Epoch 171/200\n",
            "\u001b[1m79/79\u001b[0m \u001b[32m━━━━━━━━━━━━━━━━━━━━\u001b[0m\u001b[37m\u001b[0m \u001b[1m3s\u001b[0m 29ms/step - loss: 2.5384e-04 - mae: 0.0106 - val_loss: 0.0019 - val_mae: 0.0295\n",
            "Epoch 172/200\n",
            "\u001b[1m79/79\u001b[0m \u001b[32m━━━━━━━━━━━━━━━━━━━━\u001b[0m\u001b[37m\u001b[0m \u001b[1m3s\u001b[0m 29ms/step - loss: 2.5245e-04 - mae: 0.0106 - val_loss: 0.0019 - val_mae: 0.0293\n",
            "Epoch 173/200\n",
            "\u001b[1m79/79\u001b[0m \u001b[32m━━━━━━━━━━━━━━━━━━━━\u001b[0m\u001b[37m\u001b[0m \u001b[1m2s\u001b[0m 31ms/step - loss: 2.4876e-04 - mae: 0.0105 - val_loss: 0.0019 - val_mae: 0.0294\n",
            "Epoch 174/200\n",
            "\u001b[1m79/79\u001b[0m \u001b[32m━━━━━━━━━━━━━━━━━━━━\u001b[0m\u001b[37m\u001b[0m \u001b[1m2s\u001b[0m 29ms/step - loss: 2.4586e-04 - mae: 0.0104 - val_loss: 0.0019 - val_mae: 0.0295\n",
            "Epoch 175/200\n",
            "\u001b[1m79/79\u001b[0m \u001b[32m━━━━━━━━━━━━━━━━━━━━\u001b[0m\u001b[37m\u001b[0m \u001b[1m2s\u001b[0m 29ms/step - loss: 2.5055e-04 - mae: 0.0106 - val_loss: 0.0019 - val_mae: 0.0295\n",
            "Epoch 176/200\n",
            "\u001b[1m79/79\u001b[0m \u001b[32m━━━━━━━━━━━━━━━━━━━━\u001b[0m\u001b[37m\u001b[0m \u001b[1m3s\u001b[0m 29ms/step - loss: 2.4680e-04 - mae: 0.0105 - val_loss: 0.0019 - val_mae: 0.0295\n",
            "Epoch 177/200\n",
            "\u001b[1m79/79\u001b[0m \u001b[32m━━━━━━━━━━━━━━━━━━━━\u001b[0m\u001b[37m\u001b[0m \u001b[1m3s\u001b[0m 29ms/step - loss: 2.4413e-04 - mae: 0.0104 - val_loss: 0.0019 - val_mae: 0.0294\n",
            "Epoch 178/200\n",
            "\u001b[1m79/79\u001b[0m \u001b[32m━━━━━━━━━━━━━━━━━━━━\u001b[0m\u001b[37m\u001b[0m \u001b[1m3s\u001b[0m 30ms/step - loss: 2.4498e-04 - mae: 0.0105 - val_loss: 0.0019 - val_mae: 0.0295\n",
            "Epoch 179/200\n",
            "\u001b[1m79/79\u001b[0m \u001b[32m━━━━━━━━━━━━━━━━━━━━\u001b[0m\u001b[37m\u001b[0m \u001b[1m2s\u001b[0m 29ms/step - loss: 2.4156e-04 - mae: 0.0104 - val_loss: 0.0019 - val_mae: 0.0294\n",
            "Epoch 180/200\n",
            "\u001b[1m79/79\u001b[0m \u001b[32m━━━━━━━━━━━━━━━━━━━━\u001b[0m\u001b[37m\u001b[0m \u001b[1m2s\u001b[0m 29ms/step - loss: 2.3993e-04 - mae: 0.0103 - val_loss: 0.0019 - val_mae: 0.0293\n",
            "Epoch 181/200\n",
            "\u001b[1m79/79\u001b[0m \u001b[32m━━━━━━━━━━━━━━━━━━━━\u001b[0m\u001b[37m\u001b[0m \u001b[1m3s\u001b[0m 29ms/step - loss: 2.4578e-04 - mae: 0.0106 - val_loss: 0.0019 - val_mae: 0.0295\n",
            "Epoch 182/200\n",
            "\u001b[1m79/79\u001b[0m \u001b[32m━━━━━━━━━━━━━━━━━━━━\u001b[0m\u001b[37m\u001b[0m \u001b[1m3s\u001b[0m 29ms/step - loss: 2.3767e-04 - mae: 0.0103 - val_loss: 0.0019 - val_mae: 0.0294\n",
            "Epoch 183/200\n",
            "\u001b[1m79/79\u001b[0m \u001b[32m━━━━━━━━━━━━━━━━━━━━\u001b[0m\u001b[37m\u001b[0m \u001b[1m2s\u001b[0m 29ms/step - loss: 2.3560e-04 - mae: 0.0102 - val_loss: 0.0019 - val_mae: 0.0294\n",
            "Epoch 184/200\n",
            "\u001b[1m79/79\u001b[0m \u001b[32m━━━━━━━━━━━━━━━━━━━━\u001b[0m\u001b[37m\u001b[0m \u001b[1m3s\u001b[0m 32ms/step - loss: 2.3253e-04 - mae: 0.0101 - val_loss: 0.0019 - val_mae: 0.0296\n",
            "Epoch 185/200\n",
            "\u001b[1m79/79\u001b[0m \u001b[32m━━━━━━━━━━━━━━━━━━━━\u001b[0m\u001b[37m\u001b[0m \u001b[1m2s\u001b[0m 29ms/step - loss: 2.4494e-04 - mae: 0.0106 - val_loss: 0.0019 - val_mae: 0.0294\n",
            "Epoch 186/200\n",
            "\u001b[1m79/79\u001b[0m \u001b[32m━━━━━━━━━━━━━━━━━━━━\u001b[0m\u001b[37m\u001b[0m \u001b[1m2s\u001b[0m 29ms/step - loss: 2.3133e-04 - mae: 0.0101 - val_loss: 0.0019 - val_mae: 0.0293\n",
            "Epoch 187/200\n",
            "\u001b[1m79/79\u001b[0m \u001b[32m━━━━━━━━━━━━━━━━━━━━\u001b[0m\u001b[37m\u001b[0m \u001b[1m3s\u001b[0m 29ms/step - loss: 2.3755e-04 - mae: 0.0104 - val_loss: 0.0019 - val_mae: 0.0293\n",
            "Epoch 188/200\n",
            "\u001b[1m79/79\u001b[0m \u001b[32m━━━━━━━━━━━━━━━━━━━━\u001b[0m\u001b[37m\u001b[0m \u001b[1m3s\u001b[0m 29ms/step - loss: 2.2869e-04 - mae: 0.0100 - val_loss: 0.0019 - val_mae: 0.0293\n",
            "Epoch 189/200\n",
            "\u001b[1m79/79\u001b[0m \u001b[32m━━━━━━━━━━━━━━━━━━━━\u001b[0m\u001b[37m\u001b[0m \u001b[1m2s\u001b[0m 29ms/step - loss: 2.2572e-04 - mae: 0.0100 - val_loss: 0.0019 - val_mae: 0.0292\n",
            "Epoch 190/200\n",
            "\u001b[1m79/79\u001b[0m \u001b[32m━━━━━━━━━━━━━━━━━━━━\u001b[0m\u001b[37m\u001b[0m \u001b[1m2s\u001b[0m 29ms/step - loss: 2.3062e-04 - mae: 0.0102 - val_loss: 0.0019 - val_mae: 0.0292\n",
            "Epoch 191/200\n",
            "\u001b[1m79/79\u001b[0m \u001b[32m━━━━━━━━━━━━━━━━━━━━\u001b[0m\u001b[37m\u001b[0m \u001b[1m3s\u001b[0m 29ms/step - loss: 2.2275e-04 - mae: 0.0099 - val_loss: 0.0019 - val_mae: 0.0293\n",
            "Epoch 192/200\n",
            "\u001b[1m79/79\u001b[0m \u001b[32m━━━━━━━━━━━━━━━━━━━━\u001b[0m\u001b[37m\u001b[0m \u001b[1m3s\u001b[0m 29ms/step - loss: 2.3477e-04 - mae: 0.0104 - val_loss: 0.0018 - val_mae: 0.0292\n",
            "Epoch 193/200\n",
            "\u001b[1m79/79\u001b[0m \u001b[32m━━━━━━━━━━━━━━━━━━━━\u001b[0m\u001b[37m\u001b[0m \u001b[1m3s\u001b[0m 29ms/step - loss: 2.1940e-04 - mae: 0.0098 - val_loss: 0.0018 - val_mae: 0.0292\n",
            "Epoch 194/200\n",
            "\u001b[1m79/79\u001b[0m \u001b[32m━━━━━━━━━━━━━━━━━━━━\u001b[0m\u001b[37m\u001b[0m \u001b[1m2s\u001b[0m 28ms/step - loss: 2.2167e-04 - mae: 0.0099 - val_loss: 0.0019 - val_mae: 0.0293\n",
            "Epoch 195/200\n",
            "\u001b[1m79/79\u001b[0m \u001b[32m━━━━━━━━━━━━━━━━━━━━\u001b[0m\u001b[37m\u001b[0m \u001b[1m2s\u001b[0m 30ms/step - loss: 2.3339e-04 - mae: 0.0104 - val_loss: 0.0019 - val_mae: 0.0293\n",
            "Epoch 196/200\n",
            "\u001b[1m79/79\u001b[0m \u001b[32m━━━━━━━━━━━━━━━━━━━━\u001b[0m\u001b[37m\u001b[0m \u001b[1m3s\u001b[0m 29ms/step - loss: 2.1535e-04 - mae: 0.0097 - val_loss: 0.0019 - val_mae: 0.0294\n",
            "Epoch 197/200\n",
            "\u001b[1m79/79\u001b[0m \u001b[32m━━━━━━━━━━━━━━━━━━━━\u001b[0m\u001b[37m\u001b[0m \u001b[1m2s\u001b[0m 29ms/step - loss: 2.1817e-04 - mae: 0.0098 - val_loss: 0.0019 - val_mae: 0.0292\n",
            "Epoch 198/200\n",
            "\u001b[1m79/79\u001b[0m \u001b[32m━━━━━━━━━━━━━━━━━━━━\u001b[0m\u001b[37m\u001b[0m \u001b[1m2s\u001b[0m 29ms/step - loss: 2.1356e-04 - mae: 0.0097 - val_loss: 0.0019 - val_mae: 0.0292\n",
            "Epoch 199/200\n",
            "\u001b[1m79/79\u001b[0m \u001b[32m━━━━━━━━━━━━━━━━━━━━\u001b[0m\u001b[37m\u001b[0m \u001b[1m3s\u001b[0m 29ms/step - loss: 2.1374e-04 - mae: 0.0097 - val_loss: 0.0019 - val_mae: 0.0292\n",
            "Epoch 200/200\n",
            "\u001b[1m79/79\u001b[0m \u001b[32m━━━━━━━━━━━━━━━━━━━━\u001b[0m\u001b[37m\u001b[0m \u001b[1m2s\u001b[0m 29ms/step - loss: 2.2608e-04 - mae: 0.0102 - val_loss: 0.0019 - val_mae: 0.0292\n"
          ]
        }
      ],
      "source": [
        "# Train the model\n",
        "history = srcnn_model.fit(X_train_lr, X_train_hr, epochs=200, batch_size=32, validation_split=0.1)\n",
        "\n"
      ]
    },
    {
      "cell_type": "code",
      "execution_count": 54,
      "metadata": {
        "id": "INpBU5nb84fW",
        "colab": {
          "base_uri": "https://localhost:8080/"
        },
        "outputId": "20b0c430-decd-49bb-f58e-8ad35e6167a5"
      },
      "outputs": [
        {
          "output_type": "stream",
          "name": "stdout",
          "text": [
            "\u001b[1m1/1\u001b[0m \u001b[32m━━━━━━━━━━━━━━━━━━━━\u001b[0m\u001b[37m\u001b[0m \u001b[1m0s\u001b[0m 197ms/step\n",
            "Super-resolution complete!\n"
          ]
        }
      ],
      "source": [
        "\n",
        "full_lr = cv2.resize(lst_data_norm, (lst_data_norm.shape[1]//2, lst_data_norm.shape[0]//2), interpolation=cv2.INTER_CUBIC)\n",
        "full_lr = cv2.resize(full_lr, (lst_data_norm.shape[1], lst_data_norm.shape[0]), interpolation=cv2.INTER_CUBIC)\n",
        "full_lr_input = full_lr.reshape(1, lst_data_norm.shape[0], lst_data_norm.shape[1], 1)\n",
        "\n",
        "predicted_full = srcnn_model.predict(full_lr_input)[0, :, :, 0]\n",
        "\n",
        "print(\"Super-resolution complete!\")\n"
      ]
    },
    {
      "cell_type": "code",
      "execution_count": 55,
      "metadata": {
        "id": "h0sGIzAM8_a7",
        "colab": {
          "base_uri": "https://localhost:8080/"
        },
        "outputId": "695f0b5c-7ebe-47c1-9167-3d48c6bf1653"
      },
      "outputs": [
        {
          "output_type": "stream",
          "name": "stdout",
          "text": [
            "Full Image MAE: 0.0250\n",
            "Full Image SSIM: 0.9460\n",
            "Full Image PSNR: 29.00 dB\n"
          ]
        }
      ],
      "source": [
        "from skimage.metrics import structural_similarity as ssim\n",
        "from skimage.metrics import peak_signal_noise_ratio as psnr\n",
        "\n",
        "mae = np.mean(np.abs(predicted_full - lst_data_norm))\n",
        "ssim_score = ssim(lst_data_norm, predicted_full, data_range=1.0)\n",
        "psnr_score = psnr(lst_data_norm, predicted_full, data_range=1.0)\n",
        "\n",
        "print(f\"Full Image MAE: {mae:.4f}\")\n",
        "print(f\"Full Image SSIM: {ssim_score:.4f}\")\n",
        "print(f\"Full Image PSNR: {psnr_score:.2f} dB\")\n"
      ]
    },
    {
      "cell_type": "code",
      "execution_count": 57,
      "metadata": {
        "id": "FGpK71pA9Cak",
        "colab": {
          "base_uri": "https://localhost:8080/",
          "height": 386
        },
        "outputId": "02fa1338-2928-4aff-972d-b29cab84712e"
      },
      "outputs": [
        {
          "output_type": "display_data",
          "data": {
            "text/plain": [
              "<Figure size 1500x500 with 6 Axes>"
            ],
            "image/png": "[encoded data removed]"
          },
          "metadata": {}
        }
      ],
      "source": [
        "plt.figure(figsize=(15, 5))\n",
        "\n",
        "plt.subplot(1, 3, 1)\n",
        "plt.imshow(lst_data_norm, cmap='gray')\n",
        "plt.title(\"Original Normalized LST\")\n",
        "plt.colorbar()\n",
        "\n",
        "plt.subplot(1, 3, 2)\n",
        "plt.imshow(full_lr, cmap='gray')\n",
        "plt.title(\"Simulated LR Input\")\n",
        "plt.colorbar()\n",
        "\n",
        "plt.subplot(1, 3, 3)\n",
        "plt.imshow(predicted_full, cmap='gray')\n",
        "plt.title(\"Super-Resolved Output\")\n",
        "plt.colorbar()\n",
        "\n",
        "plt.tight_layout()\n",
        "plt.show()\n"
      ]
    },
    {
      "cell_type": "code",
      "source": [],
      "metadata": {
        "id": "o-BxDoO55rcD"
      },
      "execution_count": null,
      "outputs": []
    }
  ],
  "metadata": {
    "accelerator": "GPU",
    "colab": {
      "gpuType": "T4",
      "provenance": []
    },
    "kernelspec": {
      "display_name": "Python 3",
      "name": "python3"
    },
    "language_info": {
      "name": "python"
    }
  },
  "nbformat": 4,
  "nbformat_minor": 0
}